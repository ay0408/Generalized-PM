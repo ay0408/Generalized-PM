{
 "cells": [
  {
   "cell_type": "code",
   "execution_count": 1,
   "metadata": {},
   "outputs": [],
   "source": [
    "import numpy as np\n",
    "import math\n",
    "import matplotlib.pyplot as plt\n",
    "from scipy.optimize import minimize\n",
    "import random\n",
    "import warnings; warnings.simplefilter('ignore')"
   ]
  },
  {
   "cell_type": "code",
   "execution_count": 2,
   "metadata": {},
   "outputs": [],
   "source": [
    "def EqCons(eps,b):\n",
    "    c = [{'type': 'eq', 'fun': lambda p: p[0]+p[1]-math.exp(eps[0]/b)/(math.exp(eps[0]/b)+1)},\n",
    "        {'type': 'eq', 'fun': lambda p: p[0]+p[2]-math.exp(eps[1]/b)/(math.exp(eps[1]/b)+1)}]\n",
    "    return c\n",
    "\n",
    "def InEqCons(eps,b):\n",
    "    c = [{'type': 'ineq', 'fun': lambda p: math.exp(eps[0])*p[0]-math.exp(eps[0]/b)*p[2]},\n",
    "        {'type': 'ineq', 'fun': lambda p: math.exp(eps[1])*p[0]-math.exp(eps[1]/b)*p[1]},\n",
    "        {'type': 'ineq', 'fun': lambda p: math.exp(eps[0])*p[1]-math.exp(eps[0]/b)*p[3]},\n",
    "        {'type': 'ineq', 'fun': lambda p: math.exp(eps[1])*p[2]-math.exp(eps[1]/b)*p[3]}]\n",
    "    return c\n",
    "\n",
    "def PrivacyLevel(eps,k,b):\n",
    "    p0 = np.ones(2**k)*(1/(2**k))\n",
    "    #print(p0)\n",
    "    fun = lambda p: p[0]/p[int(2**k-1)]\n",
    "    \n",
    "    cons = [0]*(k+1+(2**(k-1))*k)\n",
    "    cons[0:k] = EqCons(eps,b)\n",
    "    cons[k] = {'type': 'eq', 'fun': lambda p: np.sum(p)-1}\n",
    "    cons[k+1:k+1+(2**(k-1))*k] = InEqCons(eps,b)\n",
    "    #print(cons)\n",
    "\n",
    "    bnds = [(0,1)]*(2**k)\n",
    "    \n",
    "    res = minimize(fun, p0, bounds=bnds, constraints=cons)\n",
    "    \n",
    "    prod = 1\n",
    "    for i in range(k):\n",
    "        prod *= (math.exp(eps[i])/math.exp(eps[i]/b))\n",
    "    return math.log(res.fun*prod)"
   ]
  },
  {
   "cell_type": "code",
   "execution_count": 3,
   "metadata": {},
   "outputs": [],
   "source": [
    "def evaluation(k):\n",
    "    aeps = [2,3,4,5,6,7,8]\n",
    "    s = np.zeros(7); p = np.zeros((7,5)); r = 50\n",
    "    \n",
    "    for i in range(7):\n",
    "        s[i] = aeps[i]*k\n",
    "        for j in range(r):\n",
    "            eps = [random.random() for l in range(k)]\n",
    "            eps = [eps[l]*s[i]/(sum(eps)) for l in range(k)]\n",
    "            p[i][0] += 1\n",
    "            p[i][1] += PrivacyLevel(eps,k,2)/s[i]\n",
    "            p[i][2] += PrivacyLevel(eps,k,1.8)/s[i]\n",
    "            p[i][3] += PrivacyLevel(eps,k,1.7)/s[i]\n",
    "            p[i][4] += PrivacyLevel(eps,k,1.6)/s[i]\n",
    "        p[i][0] /= r\n",
    "        p[i][1] /= r\n",
    "        p[i][2] /= r\n",
    "        p[i][3] /= r\n",
    "        p[i][4] /= r\n",
    "    \n",
    "    return p"
   ]
  },
  {
   "cell_type": "code",
   "execution_count": 4,
   "metadata": {},
   "outputs": [
    {
     "name": "stderr",
     "output_type": "stream",
     "text": [
      "The PostScript backend does not support transparency; partially transparent artists will be rendered opaque.\n",
      "The PostScript backend does not support transparency; partially transparent artists will be rendered opaque.\n"
     ]
    },
    {
     "data": {
      "image/png": "[encoded data removed]",
      "text/plain": [
       "<Figure size 432x288 with 1 Axes>"
      ]
     },
     "metadata": {
      "needs_background": "light"
     },
     "output_type": "display_data"
    }
   ],
   "source": [
    "privacy = evaluation(2)\n",
    "\n",
    "s = [2,3,4,5,6,7,8]\n",
    "\n",
    "fig = plt.figure()\n",
    "plt.ylim(-0.01, 1.1)\n",
    "plt.axhline(1, ls=\"--\",color=\"gray\")\n",
    "plt.plot(s,privacy[:,0],marker=\"o\",color=\"gray\",linestyle = \"-\",label=\"Baseline\")\n",
    "plt.plot(s,privacy[:,1],marker=\"x\",color=\"black\",linestyle = \"dashed\",label=\"Ours $(b = 2)$\")\n",
    "plt.plot(s,privacy[:,2],marker=\"1\",color=\"blue\",linestyle = \"dotted\",label=\"Ours $(b = 1.8)$\")\n",
    "plt.plot(s,privacy[:,3],marker=\"2\",color=\"green\",linestyle = \"dashdot\",label=\"Ours $(b = 1.7)$\")\n",
    "plt.plot(s,privacy[:,4],marker=\".\",color=\"red\",linestyle = \"-\",label=\"Ours $(b = 1.6)$\")\n",
    "plt.legend(bbox_to_anchor=(0.49, 1.02), loc='lower center', borderaxespad=0, ncol=3, fontsize=11.5)\n",
    "plt.xlabel(\"Average of Privacy Levels\" r\"$= \\, \\frac{1}{k} \\, \\sum_i \\, \\epsilon_i$\",fontsize=14)\n",
    "fig.savefig(\"Privacy_k=2.png\")\n",
    "fig.savefig(\"figs/Privacy_k=2.eps\", bbox_inches=\"tight\", pad_inches=0.05)"
   ]
  },
  {
   "cell_type": "code",
   "execution_count": null,
   "metadata": {},
   "outputs": [],
   "source": []
  }
 ],
 "metadata": {
  "kernelspec": {
   "display_name": "Python 3",
   "language": "python",
   "name": "python3"
  },
  "language_info": {
   "codemirror_mode": {
    "name": "ipython",
    "version": 3
   },
   "file_extension": ".py",
   "mimetype": "text/x-python",
   "name": "python",
   "nbconvert_exporter": "python",
   "pygments_lexer": "ipython3",
   "version": "3.8.3"
  }
 },
 "nbformat": 4,
 "nbformat_minor": 4
}

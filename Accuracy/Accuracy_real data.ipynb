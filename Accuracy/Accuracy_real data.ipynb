{
 "cells": [
  {
   "cell_type": "code",
   "execution_count": 1,
   "metadata": {},
   "outputs": [],
   "source": [
    "import numpy as np\n",
    "import math\n",
    "import matplotlib.pyplot as plt\n",
    "from scipy.optimize import minimize\n",
    "import random\n",
    "import warnings; warnings.simplefilter('ignore')"
   ]
  },
  {
   "cell_type": "code",
   "execution_count": 2,
   "metadata": {},
   "outputs": [],
   "source": [
    "# k = 6\n",
    "\n",
    "def EqCons(eps,b):\n",
    "    c = [{'type': 'eq', 'fun': lambda p: p[0]+p[1]+p[2]+p[3]+p[4]+p[5]+p[6]+p[7]+p[8]+p[9]+p[10]+p[11]+p[12]+p[13]+p[14]+p[15]+p[16]+p[17]+p[18]+p[19]+p[20]+p[21]+p[22]+p[23]+p[24]+p[25]+p[26]+p[27]+p[28]+p[29]+p[30]+p[31]-math.exp(eps[0]/b)/(math.exp(eps[0]/b)+1)},\n",
    "        {'type': 'eq', 'fun': lambda p: p[0]+p[1]+p[2]+p[3]+p[4]+p[5]+p[6]+p[7]+p[8]+p[9]+p[10]+p[11]+p[12]+p[13]+p[14]+p[15]+p[32]+p[33]+p[34]+p[35]+p[36]+p[37]+p[38]+p[39]+p[40]+p[41]+p[42]+p[43]+p[44]+p[45]+p[46]+p[47]-math.exp(eps[1]/b)/(math.exp(eps[1]/b)+1)},\n",
    "        {'type': 'eq', 'fun': lambda p: p[0]+p[1]+p[2]+p[3]+p[4]+p[5]+p[6]+p[7]+p[16]+p[17]+p[18]+p[19]+p[20]+p[21]+p[22]+p[23]+p[32]+p[33]+p[34]+p[35]+p[36]+p[37]+p[38]+p[39]+p[48]+p[49]+p[50]+p[51]+p[52]+p[53]+p[54]+p[55]-math.exp(eps[2]/b)/(math.exp(eps[2]/b)+1)},\n",
    "        {'type': 'eq', 'fun': lambda p: p[0]+p[1]+p[2]+p[3]+p[8]+p[9]+p[10]+p[11]+p[16]+p[17]+p[18]+p[19]+p[24]+p[25]+p[26]+p[27]+p[32]+p[33]+p[34]+p[35]+p[40]+p[41]+p[42]+p[43]+p[48]+p[49]+p[50]+p[51]+p[56]+p[57]+p[58]+p[59]-math.exp(eps[3]/b)/(math.exp(eps[3]/b)+1)},\n",
    "        {'type': 'eq', 'fun': lambda p: p[0]+p[1]+p[4]+p[5]+p[8]+p[9]+p[12]+p[13]+p[16]+p[17]+p[20]+p[21]+p[24]+p[25]+p[28]+p[29]+p[32]+p[33]+p[36]+p[37]+p[40]+p[41]+p[44]+p[45]+p[48]+p[49]+p[52]+p[53]+p[56]+p[57]+p[60]+p[61]-math.exp(eps[4]/b)/(math.exp(eps[4]/b)+1)},\n",
    "        {'type': 'eq', 'fun': lambda p: p[0]+p[2]+p[4]+p[6]+p[8]+p[10]+p[12]+p[14]+p[16]+p[18]+p[20]+p[22]+p[24]+p[26]+p[28]+p[30]+p[32]+p[34]+p[36]+p[38]+p[40]+p[42]+p[44]+p[46]+p[48]+p[50]+p[52]+p[54]+p[56]+p[58]+p[60]+p[62]-math.exp(eps[5]/b)/(math.exp(eps[5]/b)+1)}]\n",
    "    return c\n",
    "\n",
    "def InEqCons(eps,b):\n",
    "    c = [{'type': 'ineq', 'fun': lambda p: math.exp(eps[5])*p[0]-math.exp(eps[5]/b)*p[1]},\n",
    "         {'type': 'ineq', 'fun': lambda p: math.exp(eps[4])*p[0]-math.exp(eps[4]/b)*p[2]},\n",
    "         {'type': 'ineq', 'fun': lambda p: math.exp(eps[3])*p[0]-math.exp(eps[3]/b)*p[4]},\n",
    "         {'type': 'ineq', 'fun': lambda p: math.exp(eps[2])*p[0]-math.exp(eps[2]/b)*p[8]},\n",
    "         {'type': 'ineq', 'fun': lambda p: math.exp(eps[1])*p[0]-math.exp(eps[1]/b)*p[16]},\n",
    "         {'type': 'ineq', 'fun': lambda p: math.exp(eps[0])*p[0]-math.exp(eps[0]/b)*p[32]},\n",
    "         {'type': 'ineq', 'fun': lambda p: math.exp(eps[4])*p[1]-math.exp(eps[4]/b)*p[3]},\n",
    "         {'type': 'ineq', 'fun': lambda p: math.exp(eps[3])*p[1]-math.exp(eps[3]/b)*p[5]},\n",
    "         {'type': 'ineq', 'fun': lambda p: math.exp(eps[2])*p[1]-math.exp(eps[2]/b)*p[9]},\n",
    "         {'type': 'ineq', 'fun': lambda p: math.exp(eps[1])*p[1]-math.exp(eps[1]/b)*p[17]},\n",
    "         {'type': 'ineq', 'fun': lambda p: math.exp(eps[0])*p[1]-math.exp(eps[0]/b)*p[33]},\n",
    "         {'type': 'ineq', 'fun': lambda p: math.exp(eps[5])*p[2]-math.exp(eps[5]/b)*p[3]},\n",
    "         {'type': 'ineq', 'fun': lambda p: math.exp(eps[3])*p[2]-math.exp(eps[3]/b)*p[6]},\n",
    "         {'type': 'ineq', 'fun': lambda p: math.exp(eps[2])*p[2]-math.exp(eps[2]/b)*p[10]},\n",
    "         {'type': 'ineq', 'fun': lambda p: math.exp(eps[1])*p[2]-math.exp(eps[1]/b)*p[18]},\n",
    "         {'type': 'ineq', 'fun': lambda p: math.exp(eps[0])*p[2]-math.exp(eps[0]/b)*p[34]},\n",
    "         {'type': 'ineq', 'fun': lambda p: math.exp(eps[3])*p[3]-math.exp(eps[3]/b)*p[7]},\n",
    "         {'type': 'ineq', 'fun': lambda p: math.exp(eps[2])*p[3]-math.exp(eps[2]/b)*p[11]},\n",
    "         {'type': 'ineq', 'fun': lambda p: math.exp(eps[1])*p[3]-math.exp(eps[1]/b)*p[19]},\n",
    "         {'type': 'ineq', 'fun': lambda p: math.exp(eps[0])*p[3]-math.exp(eps[0]/b)*p[35]},\n",
    "         {'type': 'ineq', 'fun': lambda p: math.exp(eps[5])*p[4]-math.exp(eps[5]/b)*p[5]},\n",
    "         {'type': 'ineq', 'fun': lambda p: math.exp(eps[4])*p[4]-math.exp(eps[4]/b)*p[6]},\n",
    "         {'type': 'ineq', 'fun': lambda p: math.exp(eps[2])*p[4]-math.exp(eps[2]/b)*p[12]},\n",
    "         {'type': 'ineq', 'fun': lambda p: math.exp(eps[1])*p[4]-math.exp(eps[1]/b)*p[20]},\n",
    "         {'type': 'ineq', 'fun': lambda p: math.exp(eps[0])*p[4]-math.exp(eps[0]/b)*p[36]},\n",
    "         {'type': 'ineq', 'fun': lambda p: math.exp(eps[4])*p[5]-math.exp(eps[4]/b)*p[7]},\n",
    "         {'type': 'ineq', 'fun': lambda p: math.exp(eps[2])*p[5]-math.exp(eps[2]/b)*p[13]},\n",
    "         {'type': 'ineq', 'fun': lambda p: math.exp(eps[1])*p[5]-math.exp(eps[1]/b)*p[21]},\n",
    "         {'type': 'ineq', 'fun': lambda p: math.exp(eps[0])*p[5]-math.exp(eps[0]/b)*p[37]},\n",
    "         {'type': 'ineq', 'fun': lambda p: math.exp(eps[5])*p[6]-math.exp(eps[5]/b)*p[7]},\n",
    "         {'type': 'ineq', 'fun': lambda p: math.exp(eps[2])*p[6]-math.exp(eps[2]/b)*p[14]},\n",
    "         {'type': 'ineq', 'fun': lambda p: math.exp(eps[1])*p[6]-math.exp(eps[1]/b)*p[22]},\n",
    "         {'type': 'ineq', 'fun': lambda p: math.exp(eps[0])*p[6]-math.exp(eps[0]/b)*p[38]},\n",
    "         {'type': 'ineq', 'fun': lambda p: math.exp(eps[2])*p[7]-math.exp(eps[2]/b)*p[15]},\n",
    "         {'type': 'ineq', 'fun': lambda p: math.exp(eps[1])*p[7]-math.exp(eps[1]/b)*p[23]},\n",
    "         {'type': 'ineq', 'fun': lambda p: math.exp(eps[0])*p[7]-math.exp(eps[0]/b)*p[39]},\n",
    "         {'type': 'ineq', 'fun': lambda p: math.exp(eps[5])*p[8]-math.exp(eps[5]/b)*p[9]},\n",
    "         {'type': 'ineq', 'fun': lambda p: math.exp(eps[4])*p[8]-math.exp(eps[4]/b)*p[10]},\n",
    "         {'type': 'ineq', 'fun': lambda p: math.exp(eps[3])*p[8]-math.exp(eps[3]/b)*p[12]},\n",
    "         {'type': 'ineq', 'fun': lambda p: math.exp(eps[1])*p[8]-math.exp(eps[1]/b)*p[24]},\n",
    "         {'type': 'ineq', 'fun': lambda p: math.exp(eps[0])*p[8]-math.exp(eps[0]/b)*p[40]},\n",
    "         {'type': 'ineq', 'fun': lambda p: math.exp(eps[4])*p[9]-math.exp(eps[4]/b)*p[11]},\n",
    "         {'type': 'ineq', 'fun': lambda p: math.exp(eps[3])*p[9]-math.exp(eps[3]/b)*p[13]},\n",
    "         {'type': 'ineq', 'fun': lambda p: math.exp(eps[1])*p[9]-math.exp(eps[1]/b)*p[25]},\n",
    "         {'type': 'ineq', 'fun': lambda p: math.exp(eps[0])*p[9]-math.exp(eps[0]/b)*p[41]},\n",
    "         {'type': 'ineq', 'fun': lambda p: math.exp(eps[5])*p[10]-math.exp(eps[5]/b)*p[11]},\n",
    "         {'type': 'ineq', 'fun': lambda p: math.exp(eps[3])*p[10]-math.exp(eps[3]/b)*p[14]},\n",
    "         {'type': 'ineq', 'fun': lambda p: math.exp(eps[1])*p[10]-math.exp(eps[1]/b)*p[26]},\n",
    "         {'type': 'ineq', 'fun': lambda p: math.exp(eps[0])*p[10]-math.exp(eps[0]/b)*p[42]},\n",
    "         {'type': 'ineq', 'fun': lambda p: math.exp(eps[3])*p[11]-math.exp(eps[3]/b)*p[15]},\n",
    "         {'type': 'ineq', 'fun': lambda p: math.exp(eps[1])*p[11]-math.exp(eps[1]/b)*p[27]},\n",
    "         {'type': 'ineq', 'fun': lambda p: math.exp(eps[0])*p[11]-math.exp(eps[0]/b)*p[43]},\n",
    "         {'type': 'ineq', 'fun': lambda p: math.exp(eps[5])*p[12]-math.exp(eps[5]/b)*p[13]},\n",
    "         {'type': 'ineq', 'fun': lambda p: math.exp(eps[4])*p[12]-math.exp(eps[4]/b)*p[14]},\n",
    "         {'type': 'ineq', 'fun': lambda p: math.exp(eps[1])*p[12]-math.exp(eps[1]/b)*p[28]},\n",
    "         {'type': 'ineq', 'fun': lambda p: math.exp(eps[0])*p[12]-math.exp(eps[0]/b)*p[44]},\n",
    "         {'type': 'ineq', 'fun': lambda p: math.exp(eps[4])*p[13]-math.exp(eps[4]/b)*p[15]},\n",
    "         {'type': 'ineq', 'fun': lambda p: math.exp(eps[1])*p[13]-math.exp(eps[1]/b)*p[29]},\n",
    "         {'type': 'ineq', 'fun': lambda p: math.exp(eps[0])*p[13]-math.exp(eps[0]/b)*p[45]},\n",
    "         {'type': 'ineq', 'fun': lambda p: math.exp(eps[5])*p[14]-math.exp(eps[5]/b)*p[15]},\n",
    "         {'type': 'ineq', 'fun': lambda p: math.exp(eps[1])*p[14]-math.exp(eps[1]/b)*p[30]},\n",
    "         {'type': 'ineq', 'fun': lambda p: math.exp(eps[0])*p[14]-math.exp(eps[0]/b)*p[46]},\n",
    "         {'type': 'ineq', 'fun': lambda p: math.exp(eps[1])*p[15]-math.exp(eps[1]/b)*p[31]},\n",
    "         {'type': 'ineq', 'fun': lambda p: math.exp(eps[0])*p[15]-math.exp(eps[0]/b)*p[47]},\n",
    "         {'type': 'ineq', 'fun': lambda p: math.exp(eps[5])*p[16]-math.exp(eps[5]/b)*p[17]},\n",
    "         {'type': 'ineq', 'fun': lambda p: math.exp(eps[4])*p[16]-math.exp(eps[4]/b)*p[18]},\n",
    "         {'type': 'ineq', 'fun': lambda p: math.exp(eps[3])*p[16]-math.exp(eps[3]/b)*p[20]},\n",
    "         {'type': 'ineq', 'fun': lambda p: math.exp(eps[2])*p[16]-math.exp(eps[2]/b)*p[24]},\n",
    "         {'type': 'ineq', 'fun': lambda p: math.exp(eps[0])*p[16]-math.exp(eps[0]/b)*p[48]},\n",
    "         {'type': 'ineq', 'fun': lambda p: math.exp(eps[4])*p[17]-math.exp(eps[4]/b)*p[19]},\n",
    "         {'type': 'ineq', 'fun': lambda p: math.exp(eps[3])*p[17]-math.exp(eps[3]/b)*p[21]},\n",
    "         {'type': 'ineq', 'fun': lambda p: math.exp(eps[2])*p[17]-math.exp(eps[2]/b)*p[25]},\n",
    "         {'type': 'ineq', 'fun': lambda p: math.exp(eps[0])*p[17]-math.exp(eps[0]/b)*p[49]},\n",
    "         {'type': 'ineq', 'fun': lambda p: math.exp(eps[5])*p[18]-math.exp(eps[5]/b)*p[19]},\n",
    "         {'type': 'ineq', 'fun': lambda p: math.exp(eps[3])*p[18]-math.exp(eps[3]/b)*p[22]},\n",
    "         {'type': 'ineq', 'fun': lambda p: math.exp(eps[2])*p[18]-math.exp(eps[2]/b)*p[26]},\n",
    "         {'type': 'ineq', 'fun': lambda p: math.exp(eps[0])*p[18]-math.exp(eps[0]/b)*p[50]},\n",
    "         {'type': 'ineq', 'fun': lambda p: math.exp(eps[3])*p[19]-math.exp(eps[3]/b)*p[23]},\n",
    "         {'type': 'ineq', 'fun': lambda p: math.exp(eps[2])*p[19]-math.exp(eps[2]/b)*p[27]},\n",
    "         {'type': 'ineq', 'fun': lambda p: math.exp(eps[0])*p[19]-math.exp(eps[0]/b)*p[51]},\n",
    "         {'type': 'ineq', 'fun': lambda p: math.exp(eps[5])*p[20]-math.exp(eps[5]/b)*p[21]},\n",
    "         {'type': 'ineq', 'fun': lambda p: math.exp(eps[4])*p[20]-math.exp(eps[4]/b)*p[22]},\n",
    "         {'type': 'ineq', 'fun': lambda p: math.exp(eps[2])*p[20]-math.exp(eps[2]/b)*p[28]},\n",
    "         {'type': 'ineq', 'fun': lambda p: math.exp(eps[0])*p[20]-math.exp(eps[0]/b)*p[52]},\n",
    "         {'type': 'ineq', 'fun': lambda p: math.exp(eps[4])*p[21]-math.exp(eps[4]/b)*p[23]},\n",
    "         {'type': 'ineq', 'fun': lambda p: math.exp(eps[2])*p[21]-math.exp(eps[2]/b)*p[29]},\n",
    "         {'type': 'ineq', 'fun': lambda p: math.exp(eps[0])*p[21]-math.exp(eps[0]/b)*p[53]},\n",
    "         {'type': 'ineq', 'fun': lambda p: math.exp(eps[5])*p[22]-math.exp(eps[5]/b)*p[23]},\n",
    "         {'type': 'ineq', 'fun': lambda p: math.exp(eps[2])*p[22]-math.exp(eps[2]/b)*p[30]},\n",
    "         {'type': 'ineq', 'fun': lambda p: math.exp(eps[0])*p[22]-math.exp(eps[0]/b)*p[53]},\n",
    "         {'type': 'ineq', 'fun': lambda p: math.exp(eps[2])*p[23]-math.exp(eps[2]/b)*p[31]},\n",
    "         {'type': 'ineq', 'fun': lambda p: math.exp(eps[0])*p[23]-math.exp(eps[0]/b)*p[55]},\n",
    "         {'type': 'ineq', 'fun': lambda p: math.exp(eps[5])*p[24]-math.exp(eps[5]/b)*p[25]},\n",
    "         {'type': 'ineq', 'fun': lambda p: math.exp(eps[4])*p[24]-math.exp(eps[4]/b)*p[26]},\n",
    "         {'type': 'ineq', 'fun': lambda p: math.exp(eps[3])*p[24]-math.exp(eps[3]/b)*p[28]},\n",
    "         {'type': 'ineq', 'fun': lambda p: math.exp(eps[0])*p[24]-math.exp(eps[0]/b)*p[56]},\n",
    "         {'type': 'ineq', 'fun': lambda p: math.exp(eps[4])*p[25]-math.exp(eps[4]/b)*p[27]},\n",
    "         {'type': 'ineq', 'fun': lambda p: math.exp(eps[3])*p[25]-math.exp(eps[3]/b)*p[29]},\n",
    "         {'type': 'ineq', 'fun': lambda p: math.exp(eps[0])*p[25]-math.exp(eps[0]/b)*p[57]},\n",
    "         {'type': 'ineq', 'fun': lambda p: math.exp(eps[5])*p[26]-math.exp(eps[5]/b)*p[27]},\n",
    "         {'type': 'ineq', 'fun': lambda p: math.exp(eps[3])*p[26]-math.exp(eps[3]/b)*p[30]},\n",
    "         {'type': 'ineq', 'fun': lambda p: math.exp(eps[0])*p[26]-math.exp(eps[0]/b)*p[58]},\n",
    "         {'type': 'ineq', 'fun': lambda p: math.exp(eps[3])*p[27]-math.exp(eps[3]/b)*p[31]},\n",
    "         {'type': 'ineq', 'fun': lambda p: math.exp(eps[0])*p[27]-math.exp(eps[0]/b)*p[59]},\n",
    "         {'type': 'ineq', 'fun': lambda p: math.exp(eps[5])*p[28]-math.exp(eps[5]/b)*p[29]},\n",
    "         {'type': 'ineq', 'fun': lambda p: math.exp(eps[4])*p[28]-math.exp(eps[4]/b)*p[30]},\n",
    "         {'type': 'ineq', 'fun': lambda p: math.exp(eps[0])*p[28]-math.exp(eps[0]/b)*p[60]},\n",
    "         {'type': 'ineq', 'fun': lambda p: math.exp(eps[4])*p[29]-math.exp(eps[4]/b)*p[31]},\n",
    "         {'type': 'ineq', 'fun': lambda p: math.exp(eps[0])*p[29]-math.exp(eps[0]/b)*p[61]},\n",
    "         {'type': 'ineq', 'fun': lambda p: math.exp(eps[5])*p[30]-math.exp(eps[5]/b)*p[31]},\n",
    "         {'type': 'ineq', 'fun': lambda p: math.exp(eps[0])*p[30]-math.exp(eps[0]/b)*p[62]},\n",
    "         {'type': 'ineq', 'fun': lambda p: math.exp(eps[0])*p[31]-math.exp(eps[0]/b)*p[63]},\n",
    "         {'type': 'ineq', 'fun': lambda p: math.exp(eps[5])*p[32]-math.exp(eps[5]/b)*p[33]},\n",
    "         {'type': 'ineq', 'fun': lambda p: math.exp(eps[4])*p[32]-math.exp(eps[4]/b)*p[34]},\n",
    "         {'type': 'ineq', 'fun': lambda p: math.exp(eps[3])*p[32]-math.exp(eps[3]/b)*p[36]},\n",
    "         {'type': 'ineq', 'fun': lambda p: math.exp(eps[2])*p[32]-math.exp(eps[2]/b)*p[40]},\n",
    "         {'type': 'ineq', 'fun': lambda p: math.exp(eps[1])*p[32]-math.exp(eps[1]/b)*p[48]},\n",
    "         {'type': 'ineq', 'fun': lambda p: math.exp(eps[4])*p[33]-math.exp(eps[4]/b)*p[35]},\n",
    "         {'type': 'ineq', 'fun': lambda p: math.exp(eps[3])*p[33]-math.exp(eps[3]/b)*p[37]},\n",
    "         {'type': 'ineq', 'fun': lambda p: math.exp(eps[2])*p[33]-math.exp(eps[2]/b)*p[41]},\n",
    "         {'type': 'ineq', 'fun': lambda p: math.exp(eps[1])*p[33]-math.exp(eps[1]/b)*p[49]},\n",
    "         {'type': 'ineq', 'fun': lambda p: math.exp(eps[5])*p[34]-math.exp(eps[5]/b)*p[35]},\n",
    "         {'type': 'ineq', 'fun': lambda p: math.exp(eps[3])*p[34]-math.exp(eps[3]/b)*p[38]},\n",
    "         {'type': 'ineq', 'fun': lambda p: math.exp(eps[2])*p[34]-math.exp(eps[2]/b)*p[42]},\n",
    "         {'type': 'ineq', 'fun': lambda p: math.exp(eps[1])*p[34]-math.exp(eps[1]/b)*p[50]},\n",
    "         {'type': 'ineq', 'fun': lambda p: math.exp(eps[3])*p[35]-math.exp(eps[3]/b)*p[39]},\n",
    "         {'type': 'ineq', 'fun': lambda p: math.exp(eps[2])*p[35]-math.exp(eps[2]/b)*p[43]},\n",
    "         {'type': 'ineq', 'fun': lambda p: math.exp(eps[1])*p[35]-math.exp(eps[1]/b)*p[51]},\n",
    "         {'type': 'ineq', 'fun': lambda p: math.exp(eps[5])*p[36]-math.exp(eps[5]/b)*p[37]},\n",
    "         {'type': 'ineq', 'fun': lambda p: math.exp(eps[4])*p[36]-math.exp(eps[4]/b)*p[38]},\n",
    "         {'type': 'ineq', 'fun': lambda p: math.exp(eps[2])*p[36]-math.exp(eps[2]/b)*p[44]},\n",
    "         {'type': 'ineq', 'fun': lambda p: math.exp(eps[1])*p[36]-math.exp(eps[1]/b)*p[52]},\n",
    "         {'type': 'ineq', 'fun': lambda p: math.exp(eps[4])*p[37]-math.exp(eps[4]/b)*p[39]},\n",
    "         {'type': 'ineq', 'fun': lambda p: math.exp(eps[2])*p[37]-math.exp(eps[2]/b)*p[45]},\n",
    "         {'type': 'ineq', 'fun': lambda p: math.exp(eps[1])*p[37]-math.exp(eps[1]/b)*p[53]},\n",
    "         {'type': 'ineq', 'fun': lambda p: math.exp(eps[5])*p[38]-math.exp(eps[5]/b)*p[39]},\n",
    "         {'type': 'ineq', 'fun': lambda p: math.exp(eps[2])*p[38]-math.exp(eps[2]/b)*p[46]},\n",
    "         {'type': 'ineq', 'fun': lambda p: math.exp(eps[1])*p[38]-math.exp(eps[1]/b)*p[54]},\n",
    "         {'type': 'ineq', 'fun': lambda p: math.exp(eps[2])*p[39]-math.exp(eps[2]/b)*p[47]},\n",
    "         {'type': 'ineq', 'fun': lambda p: math.exp(eps[1])*p[39]-math.exp(eps[1]/b)*p[55]},\n",
    "         {'type': 'ineq', 'fun': lambda p: math.exp(eps[5])*p[40]-math.exp(eps[5]/b)*p[41]},\n",
    "         {'type': 'ineq', 'fun': lambda p: math.exp(eps[4])*p[40]-math.exp(eps[4]/b)*p[42]},\n",
    "         {'type': 'ineq', 'fun': lambda p: math.exp(eps[3])*p[40]-math.exp(eps[3]/b)*p[44]},\n",
    "         {'type': 'ineq', 'fun': lambda p: math.exp(eps[1])*p[40]-math.exp(eps[1]/b)*p[56]},\n",
    "         {'type': 'ineq', 'fun': lambda p: math.exp(eps[4])*p[41]-math.exp(eps[4]/b)*p[43]},\n",
    "         {'type': 'ineq', 'fun': lambda p: math.exp(eps[3])*p[41]-math.exp(eps[3]/b)*p[45]},\n",
    "         {'type': 'ineq', 'fun': lambda p: math.exp(eps[1])*p[41]-math.exp(eps[1]/b)*p[57]},\n",
    "         {'type': 'ineq', 'fun': lambda p: math.exp(eps[5])*p[42]-math.exp(eps[5]/b)*p[43]},\n",
    "         {'type': 'ineq', 'fun': lambda p: math.exp(eps[3])*p[42]-math.exp(eps[3]/b)*p[46]},\n",
    "         {'type': 'ineq', 'fun': lambda p: math.exp(eps[1])*p[42]-math.exp(eps[1]/b)*p[58]},\n",
    "         {'type': 'ineq', 'fun': lambda p: math.exp(eps[3])*p[43]-math.exp(eps[3]/b)*p[47]},\n",
    "         {'type': 'ineq', 'fun': lambda p: math.exp(eps[1])*p[43]-math.exp(eps[1]/b)*p[59]},\n",
    "         {'type': 'ineq', 'fun': lambda p: math.exp(eps[5])*p[44]-math.exp(eps[5]/b)*p[45]},\n",
    "         {'type': 'ineq', 'fun': lambda p: math.exp(eps[4])*p[44]-math.exp(eps[4]/b)*p[46]},\n",
    "         {'type': 'ineq', 'fun': lambda p: math.exp(eps[1])*p[44]-math.exp(eps[1]/b)*p[60]},\n",
    "         {'type': 'ineq', 'fun': lambda p: math.exp(eps[4])*p[45]-math.exp(eps[4]/b)*p[47]},\n",
    "         {'type': 'ineq', 'fun': lambda p: math.exp(eps[1])*p[45]-math.exp(eps[1]/b)*p[61]},\n",
    "         {'type': 'ineq', 'fun': lambda p: math.exp(eps[5])*p[46]-math.exp(eps[5]/b)*p[47]},\n",
    "         {'type': 'ineq', 'fun': lambda p: math.exp(eps[1])*p[46]-math.exp(eps[1]/b)*p[62]},\n",
    "         {'type': 'ineq', 'fun': lambda p: math.exp(eps[1])*p[47]-math.exp(eps[1]/b)*p[63]},\n",
    "         {'type': 'ineq', 'fun': lambda p: math.exp(eps[5])*p[48]-math.exp(eps[5]/b)*p[49]},\n",
    "         {'type': 'ineq', 'fun': lambda p: math.exp(eps[4])*p[48]-math.exp(eps[4]/b)*p[50]},\n",
    "         {'type': 'ineq', 'fun': lambda p: math.exp(eps[3])*p[48]-math.exp(eps[3]/b)*p[52]},\n",
    "         {'type': 'ineq', 'fun': lambda p: math.exp(eps[2])*p[48]-math.exp(eps[2]/b)*p[56]},\n",
    "         {'type': 'ineq', 'fun': lambda p: math.exp(eps[4])*p[49]-math.exp(eps[4]/b)*p[51]},\n",
    "         {'type': 'ineq', 'fun': lambda p: math.exp(eps[3])*p[49]-math.exp(eps[3]/b)*p[53]},\n",
    "         {'type': 'ineq', 'fun': lambda p: math.exp(eps[2])*p[49]-math.exp(eps[2]/b)*p[57]},\n",
    "         {'type': 'ineq', 'fun': lambda p: math.exp(eps[5])*p[50]-math.exp(eps[5]/b)*p[51]},\n",
    "         {'type': 'ineq', 'fun': lambda p: math.exp(eps[3])*p[50]-math.exp(eps[3]/b)*p[54]},\n",
    "         {'type': 'ineq', 'fun': lambda p: math.exp(eps[2])*p[50]-math.exp(eps[2]/b)*p[58]},\n",
    "         {'type': 'ineq', 'fun': lambda p: math.exp(eps[3])*p[51]-math.exp(eps[3]/b)*p[55]},\n",
    "         {'type': 'ineq', 'fun': lambda p: math.exp(eps[2])*p[51]-math.exp(eps[2]/b)*p[59]},\n",
    "         {'type': 'ineq', 'fun': lambda p: math.exp(eps[5])*p[52]-math.exp(eps[5]/b)*p[53]},\n",
    "         {'type': 'ineq', 'fun': lambda p: math.exp(eps[4])*p[52]-math.exp(eps[4]/b)*p[54]},\n",
    "         {'type': 'ineq', 'fun': lambda p: math.exp(eps[2])*p[52]-math.exp(eps[2]/b)*p[60]},\n",
    "         {'type': 'ineq', 'fun': lambda p: math.exp(eps[4])*p[53]-math.exp(eps[4]/b)*p[55]},\n",
    "         {'type': 'ineq', 'fun': lambda p: math.exp(eps[2])*p[53]-math.exp(eps[2]/b)*p[61]},\n",
    "         {'type': 'ineq', 'fun': lambda p: math.exp(eps[5])*p[54]-math.exp(eps[5]/b)*p[55]},\n",
    "         {'type': 'ineq', 'fun': lambda p: math.exp(eps[2])*p[54]-math.exp(eps[2]/b)*p[62]},\n",
    "         {'type': 'ineq', 'fun': lambda p: math.exp(eps[2])*p[55]-math.exp(eps[2]/b)*p[63]},\n",
    "         {'type': 'ineq', 'fun': lambda p: math.exp(eps[5])*p[56]-math.exp(eps[5]/b)*p[57]},\n",
    "         {'type': 'ineq', 'fun': lambda p: math.exp(eps[4])*p[56]-math.exp(eps[4]/b)*p[58]},\n",
    "         {'type': 'ineq', 'fun': lambda p: math.exp(eps[3])*p[56]-math.exp(eps[3]/b)*p[60]},\n",
    "         {'type': 'ineq', 'fun': lambda p: math.exp(eps[4])*p[57]-math.exp(eps[4]/b)*p[59]},\n",
    "         {'type': 'ineq', 'fun': lambda p: math.exp(eps[3])*p[57]-math.exp(eps[3]/b)*p[61]},\n",
    "         {'type': 'ineq', 'fun': lambda p: math.exp(eps[5])*p[58]-math.exp(eps[5]/b)*p[59]},\n",
    "         {'type': 'ineq', 'fun': lambda p: math.exp(eps[3])*p[58]-math.exp(eps[3]/b)*p[62]},\n",
    "         {'type': 'ineq', 'fun': lambda p: math.exp(eps[3])*p[59]-math.exp(eps[3]/b)*p[63]},\n",
    "         {'type': 'ineq', 'fun': lambda p: math.exp(eps[5])*p[60]-math.exp(eps[5]/b)*p[61]},\n",
    "         {'type': 'ineq', 'fun': lambda p: math.exp(eps[4])*p[60]-math.exp(eps[4]/b)*p[62]},\n",
    "         {'type': 'ineq', 'fun': lambda p: math.exp(eps[4])*p[61]-math.exp(eps[4]/b)*p[63]},\n",
    "         {'type': 'ineq', 'fun': lambda p: math.exp(eps[5])*p[62]-math.exp(eps[5]/b)*p[63]}\n",
    "        ]\n",
    "    return c\n",
    "\n",
    "def PrivacyLevel(eps,k,b):\n",
    "    p0 = np.ones(2**k)*(1/(2**k))\n",
    "    #print(p0)\n",
    "    fun = lambda p: p[0]/p[int(2**k-1)]\n",
    "    \n",
    "    cons = [0]*(k+1+(2**(k-1))*k)\n",
    "    cons[0:k] = EqCons(eps,b)\n",
    "    cons[k] = {'type': 'eq', 'fun': lambda p: np.sum(p)-1}\n",
    "    cons[k+1:k+1+(2**(k-1))*k] = InEqCons(eps,b)\n",
    "    #print(cons)\n",
    "\n",
    "    bnds = [(0,1)]*(2**k)\n",
    "    \n",
    "    res = minimize(fun, p0, bounds=bnds, constraints=cons)\n",
    "    \n",
    "    prod = 1\n",
    "    for i in range(k):\n",
    "        prod *= (math.exp(eps[i])/math.exp(eps[i]/b))\n",
    "    return math.log(res.fun*prod)"
   ]
  },
  {
   "cell_type": "code",
   "execution_count": 3,
   "metadata": {},
   "outputs": [],
   "source": [
    "def GPM(t,eps,b):\n",
    "    D = ((math.exp(eps/b)+1)*(math.exp(eps)+math.exp(eps/b)))/((math.exp(eps)-1)*math.exp(eps/b))\n",
    "    q = ((math.exp(eps)-1)*math.exp(eps/b))/(2*((math.exp(eps/b)+1)**2))\n",
    "    L = ((math.exp(eps/b)+1)*math.exp(eps))/((math.exp(eps)-1)*math.exp(eps/b))*t - (math.exp(eps/b)+1)/(math.exp(eps)-1)\n",
    "    R = ((math.exp(eps/b)+1)*math.exp(eps))/((math.exp(eps)-1)*math.exp(eps/b))*t + (math.exp(eps/b)+1)/(math.exp(eps)-1)\n",
    "    u = random.uniform(0,1)\n",
    "    if u < q*(R-L):\n",
    "        tt = random.uniform(L,R)\n",
    "    elif u < q*(R-L) + (q/math.exp(eps))*(L+D):\n",
    "        tt = random.random()*(L+D)-D\n",
    "    else:\n",
    "        tt = (1-random.random())*(D-R)+R\n",
    "    return tt"
   ]
  },
  {
   "cell_type": "code",
   "execution_count": 4,
   "metadata": {},
   "outputs": [],
   "source": [
    "f = open('BR.txt', 'r')\n",
    "data = f.read()"
   ]
  },
  {
   "cell_type": "code",
   "execution_count": 5,
   "metadata": {},
   "outputs": [
    {
     "name": "stdout",
     "output_type": "stream",
     "text": [
      "000008710009990001000\n",
      "0\n"
     ]
    }
   ],
   "source": [
    "print(data[0:23])"
   ]
  },
  {
   "cell_type": "code",
   "execution_count": 6,
   "metadata": {},
   "outputs": [
    {
     "name": "stdout",
     "output_type": "stream",
     "text": [
      "20635472.0\n"
     ]
    }
   ],
   "source": [
    "print(len(data)/22)"
   ]
  },
  {
   "cell_type": "code",
   "execution_count": 7,
   "metadata": {},
   "outputs": [
    {
     "name": "stdout",
     "output_type": "stream",
     "text": [
      "8710009990001000.0\n"
     ]
    }
   ],
   "source": [
    "v = np.zeros(20635472)\n",
    "for i in range(len(v)):\n",
    "    v[i] = data[int(22*i):int(22*(i+1)-1)]\n",
    "print(v[0])"
   ]
  },
  {
   "cell_type": "code",
   "execution_count": 8,
   "metadata": {},
   "outputs": [],
   "source": [
    "d = np.zeros((6,20635472))\n",
    "\n",
    "for i in range(20635472):\n",
    "    d[0][i] = int(v[i]/10000000000000)\n",
    "    d[0][i] = d[0][i]/5300 - 1\n",
    "    d[1][i] = int(int(v[i]/100000000000)%100)\n",
    "    if d[1][i] == 98 or d[1][i] == 99:\n",
    "        d[1][i] = 0\n",
    "    d[1][i] = d[1][i]/5 - 1\n",
    "    d[2][i] = int(int(v[i]/10000000000)%10)\n",
    "    if d[2][i] == 8 or d[2][i] == 9:\n",
    "        d[2][i] = 0\n",
    "    d[2][i] = d[2][i]/3.5 - 1\n",
    "    d[3][i] = int(int(v[i]/100000000)%100)\n",
    "    if d[3][i] == 98 or d[3][i] == 99:\n",
    "        d[3][i] = 0\n",
    "    d[3][i] = d[3][i]/15 - 1\n",
    "    d[4][i] = int(int(v[i]/10000000)%10)\n",
    "    if d[4][i] == 8 or d[4][i] == 9:\n",
    "        d[4][i] = 0\n",
    "    d[4][i] = d[4][i]/2 - 1\n",
    "    d[5][i] = int(v[i]%10000000)\n",
    "    d[5][i] = d[5][i]/5000000 - 1"
   ]
  },
  {
   "cell_type": "code",
   "execution_count": 9,
   "metadata": {},
   "outputs": [],
   "source": [
    "def accuracy1(k,e,d):\n",
    "    beps = [12,18,24,30,36,42,48]\n",
    "    diff = np.zeros((7,4))\n",
    "    \n",
    "    for i in range(7):\n",
    "        eps = [e[l]*beps[i]/(sum(e)) for l in range(k)]\n",
    "    \n",
    "        a = 1\n",
    "        while(1):\n",
    "            a += 0.05\n",
    "            peps = [eps[l]*a for l in range(k)]\n",
    "            if PrivacyLevel(peps,k,2) > beps[i]:\n",
    "                peps = [eps[l]*(a-0.05) for l in range(k)]\n",
    "                break\n",
    "        while(1):\n",
    "            a += 0.05\n",
    "            gpeps = [eps[l]*a for l in range(k)]\n",
    "            if PrivacyLevel(gpeps,k,1.6) > beps[i]:\n",
    "                gpeps = [eps[l]*(a-0.05) for l in range(k)]\n",
    "                break\n",
    "        \n",
    "        for m in range(20635472):\n",
    "            for l in range(k):\n",
    "                t = d[l][m]\n",
    "                diff[i][0] += math.fabs(GPM(t,eps[l],2) - t)\n",
    "                diff[i][1] += math.fabs(GPM(t,eps[l],1.6) - t)\n",
    "                diff[i][2] += math.fabs(GPM(t,peps[l],2) - t)\n",
    "                diff[i][3] += math.fabs(GPM(t,gpeps[l],2) - t)\n",
    "        \n",
    "        s = 20635472*6\n",
    "        diff[i][0] /= s\n",
    "        diff[i][1] /= s\n",
    "        diff[i][2] /= s\n",
    "        diff[i][3] /= s\n",
    "    \n",
    "    return diff"
   ]
  },
  {
   "cell_type": "code",
   "execution_count": 10,
   "metadata": {},
   "outputs": [
    {
     "name": "stderr",
     "output_type": "stream",
     "text": [
      "The PostScript backend does not support transparency; partially transparent artists will be rendered opaque.\n",
      "The PostScript backend does not support transparency; partially transparent artists will be rendered opaque.\n"
     ]
    },
    {
     "data": {
      "image/png": "[encoded data removed]",
      "text/plain": [
       "<Figure size 432x288 with 1 Axes>"
      ]
     },
     "metadata": {
      "needs_background": "light"
     },
     "output_type": "display_data"
    }
   ],
   "source": [
    "k = 6;\n",
    "eps = [random.uniform(1,2) for l in range(k)]\n",
    "    \n",
    "diff1 = accuracy1(k,eps,d)\n",
    "\n",
    "s = [12,18,24,30,36,42,48]\n",
    "\n",
    "fig = plt.figure()\n",
    "plt.ylim(-0.05, 0.95)\n",
    "plt.plot(s,diff1[:,0],marker=\"o\",color=\"gray\",linestyle = \"dashed\",label=\"Baseline $(b = 2)$\")\n",
    "plt.plot(s,diff1[:,1],marker=\"+\",color=\"m\",linestyle = \"-\",label=\"Baseline $(b = 1.6)$\")\n",
    "plt.plot(s,diff1[:,2],marker=\"x\",color=\"black\",linestyle = \"dashed\",label=\"Ours $(b = 2)$\")\n",
    "plt.plot(s,diff1[:,3],marker=\".\",color=\"red\",linestyle = \"-\",label=\"Ours $(b = 1.6)$\")\n",
    "plt.legend(bbox_to_anchor=(0.49, 1.02), loc='lower center', borderaxespad=0, ncol=2, fontsize=11.5)\n",
    "plt.xlabel(\"Privacy Budget for the Entire Data\",fontsize=14)\n",
    "plt.ylabel(\"Difference\",fontsize=14)\n",
    "fig.savefig(\"Accuracy_BR.png\")\n",
    "fig.savefig(\"figs/Accuracy_BR.eps\", bbox_inches=\"tight\", pad_inches=0.05)"
   ]
  },
  {
   "cell_type": "code",
   "execution_count": 11,
   "metadata": {},
   "outputs": [],
   "source": [
    "f.close()"
   ]
  },
  {
   "cell_type": "code",
   "execution_count": 12,
   "metadata": {},
   "outputs": [],
   "source": [
    "# k = 5\n",
    "\n",
    "def EqCons(eps,b):\n",
    "    c = [{'type': 'eq', 'fun': lambda p: p[0]+p[1]+p[2]+p[3]+p[4]+p[5]+p[6]+p[7]+p[8]+p[9]+p[10]+p[11]+p[12]+p[13]+p[14]+p[15]-math.exp(eps[0]/b)/(math.exp(eps[0]/b)+1)},\n",
    "         {'type': 'eq', 'fun': lambda p: p[0]+p[1]+p[2]+p[3]+p[4]+p[5]+p[6]+p[7]+p[16]+p[17]+p[18]+p[19]+p[20]+p[21]+p[22]+p[23]-math.exp(eps[1]/b)/(math.exp(eps[1]/b)+1)},\n",
    "         {'type': 'eq', 'fun': lambda p: p[0]+p[1]+p[2]+p[3]+p[8]+p[9]+p[10]+p[11]+p[16]+p[17]+p[18]+p[19]+p[24]+p[25]+p[26]+p[27]-math.exp(eps[2]/b)/(math.exp(eps[2]/b)+1)},\n",
    "         {'type': 'eq', 'fun': lambda p: p[0]+p[1]+p[4]+p[5]+p[8]+p[9]+p[12]+p[13]+p[16]+p[17]+p[20]+p[21]+p[24]+p[25]+p[28]+p[29]-math.exp(eps[3]/b)/(math.exp(eps[3]/b)+1)},\n",
    "         {'type': 'eq', 'fun': lambda p: p[0]+p[2]+p[4]+p[6]+p[8]+p[10]+p[12]+p[14]+p[16]+p[18]+p[20]+p[22]+p[24]+p[26]+p[28]+p[30]-math.exp(eps[4]/b)/(math.exp(eps[4]/b)+1)}]    \n",
    "    return c\n",
    "\n",
    "def InEqCons(eps,b):\n",
    "    c = [{'type': 'ineq', 'fun': lambda p: math.exp(eps[4])*p[0]-math.exp(eps[4]/b)*p[1]},\n",
    "        {'type': 'ineq', 'fun': lambda p: math.exp(eps[3])*p[0]-math.exp(eps[3]/b)*p[2]},\n",
    "        {'type': 'ineq', 'fun': lambda p: math.exp(eps[2])*p[0]-math.exp(eps[2]/b)*p[4]},\n",
    "        {'type': 'ineq', 'fun': lambda p: math.exp(eps[1])*p[0]-math.exp(eps[1]/b)*p[8]},\n",
    "        {'type': 'ineq', 'fun': lambda p: math.exp(eps[0])*p[0]-math.exp(eps[0]/b)*p[16]},\n",
    "        {'type': 'ineq', 'fun': lambda p: math.exp(eps[3])*p[1]-math.exp(eps[3]/b)*p[3]},\n",
    "        {'type': 'ineq', 'fun': lambda p: math.exp(eps[2])*p[1]-math.exp(eps[2]/b)*p[5]},\n",
    "        {'type': 'ineq', 'fun': lambda p: math.exp(eps[1])*p[1]-math.exp(eps[1]/b)*p[9]},\n",
    "        {'type': 'ineq', 'fun': lambda p: math.exp(eps[0])*p[1]-math.exp(eps[0]/b)*p[17]},\n",
    "        {'type': 'ineq', 'fun': lambda p: math.exp(eps[4])*p[2]-math.exp(eps[4]/b)*p[3]},\n",
    "        {'type': 'ineq', 'fun': lambda p: math.exp(eps[2])*p[2]-math.exp(eps[2]/b)*p[6]},\n",
    "        {'type': 'ineq', 'fun': lambda p: math.exp(eps[1])*p[2]-math.exp(eps[1]/b)*p[10]},\n",
    "        {'type': 'ineq', 'fun': lambda p: math.exp(eps[0])*p[2]-math.exp(eps[0]/b)*p[18]},\n",
    "        {'type': 'ineq', 'fun': lambda p: math.exp(eps[2])*p[3]-math.exp(eps[2]/b)*p[7]},\n",
    "        {'type': 'ineq', 'fun': lambda p: math.exp(eps[1])*p[3]-math.exp(eps[1]/b)*p[11]},\n",
    "        {'type': 'ineq', 'fun': lambda p: math.exp(eps[0])*p[3]-math.exp(eps[0]/b)*p[19]},\n",
    "        {'type': 'ineq', 'fun': lambda p: math.exp(eps[4])*p[4]-math.exp(eps[4]/b)*p[5]},\n",
    "        {'type': 'ineq', 'fun': lambda p: math.exp(eps[3])*p[4]-math.exp(eps[3]/b)*p[6]},\n",
    "        {'type': 'ineq', 'fun': lambda p: math.exp(eps[1])*p[4]-math.exp(eps[1]/b)*p[12]},\n",
    "        {'type': 'ineq', 'fun': lambda p: math.exp(eps[0])*p[4]-math.exp(eps[0]/b)*p[20]},\n",
    "        {'type': 'ineq', 'fun': lambda p: math.exp(eps[3])*p[5]-math.exp(eps[3]/b)*p[7]},\n",
    "        {'type': 'ineq', 'fun': lambda p: math.exp(eps[1])*p[5]-math.exp(eps[1]/b)*p[13]},\n",
    "        {'type': 'ineq', 'fun': lambda p: math.exp(eps[0])*p[5]-math.exp(eps[0]/b)*p[21]},\n",
    "        {'type': 'ineq', 'fun': lambda p: math.exp(eps[4])*p[6]-math.exp(eps[4]/b)*p[7]},\n",
    "        {'type': 'ineq', 'fun': lambda p: math.exp(eps[1])*p[6]-math.exp(eps[1]/b)*p[14]},\n",
    "        {'type': 'ineq', 'fun': lambda p: math.exp(eps[0])*p[6]-math.exp(eps[0]/b)*p[22]},\n",
    "        {'type': 'ineq', 'fun': lambda p: math.exp(eps[1])*p[7]-math.exp(eps[1]/b)*p[15]},\n",
    "        {'type': 'ineq', 'fun': lambda p: math.exp(eps[0])*p[7]-math.exp(eps[0]/b)*p[23]},\n",
    "        {'type': 'ineq', 'fun': lambda p: math.exp(eps[4])*p[8]-math.exp(eps[4]/b)*p[9]},\n",
    "        {'type': 'ineq', 'fun': lambda p: math.exp(eps[3])*p[8]-math.exp(eps[3]/b)*p[10]},\n",
    "        {'type': 'ineq', 'fun': lambda p: math.exp(eps[2])*p[8]-math.exp(eps[2]/b)*p[12]},\n",
    "        {'type': 'ineq', 'fun': lambda p: math.exp(eps[0])*p[8]-math.exp(eps[0]/b)*p[24]},\n",
    "        {'type': 'ineq', 'fun': lambda p: math.exp(eps[3])*p[9]-math.exp(eps[3]/b)*p[11]},\n",
    "        {'type': 'ineq', 'fun': lambda p: math.exp(eps[2])*p[9]-math.exp(eps[2]/b)*p[13]},\n",
    "        {'type': 'ineq', 'fun': lambda p: math.exp(eps[0])*p[9]-math.exp(eps[0]/b)*p[25]},\n",
    "        {'type': 'ineq', 'fun': lambda p: math.exp(eps[4])*p[10]-math.exp(eps[4]/b)*p[11]},\n",
    "        {'type': 'ineq', 'fun': lambda p: math.exp(eps[2])*p[10]-math.exp(eps[2]/b)*p[14]},\n",
    "        {'type': 'ineq', 'fun': lambda p: math.exp(eps[0])*p[10]-math.exp(eps[0]/b)*p[26]},\n",
    "        {'type': 'ineq', 'fun': lambda p: math.exp(eps[2])*p[11]-math.exp(eps[2]/b)*p[15]},\n",
    "        {'type': 'ineq', 'fun': lambda p: math.exp(eps[0])*p[11]-math.exp(eps[0]/b)*p[27]},\n",
    "        {'type': 'ineq', 'fun': lambda p: math.exp(eps[4])*p[12]-math.exp(eps[4]/b)*p[13]},\n",
    "        {'type': 'ineq', 'fun': lambda p: math.exp(eps[3])*p[12]-math.exp(eps[3]/b)*p[14]},\n",
    "        {'type': 'ineq', 'fun': lambda p: math.exp(eps[0])*p[12]-math.exp(eps[0]/b)*p[28]},\n",
    "        {'type': 'ineq', 'fun': lambda p: math.exp(eps[3])*p[13]-math.exp(eps[3]/b)*p[15]},\n",
    "        {'type': 'ineq', 'fun': lambda p: math.exp(eps[0])*p[13]-math.exp(eps[0]/b)*p[29]},\n",
    "        {'type': 'ineq', 'fun': lambda p: math.exp(eps[4])*p[14]-math.exp(eps[4]/b)*p[15]},\n",
    "        {'type': 'ineq', 'fun': lambda p: math.exp(eps[0])*p[14]-math.exp(eps[0]/b)*p[30]},\n",
    "        {'type': 'ineq', 'fun': lambda p: math.exp(eps[0])*p[15]-math.exp(eps[0]/b)*p[31]},\n",
    "        {'type': 'ineq', 'fun': lambda p: math.exp(eps[4])*p[16]-math.exp(eps[4]/b)*p[17]},\n",
    "        {'type': 'ineq', 'fun': lambda p: math.exp(eps[3])*p[16]-math.exp(eps[3]/b)*p[18]},\n",
    "        {'type': 'ineq', 'fun': lambda p: math.exp(eps[2])*p[16]-math.exp(eps[2]/b)*p[20]},\n",
    "        {'type': 'ineq', 'fun': lambda p: math.exp(eps[1])*p[16]-math.exp(eps[1]/b)*p[24]},\n",
    "        {'type': 'ineq', 'fun': lambda p: math.exp(eps[3])*p[17]-math.exp(eps[3]/b)*p[19]},\n",
    "        {'type': 'ineq', 'fun': lambda p: math.exp(eps[2])*p[17]-math.exp(eps[2]/b)*p[21]},\n",
    "        {'type': 'ineq', 'fun': lambda p: math.exp(eps[1])*p[17]-math.exp(eps[1]/b)*p[25]},\n",
    "        {'type': 'ineq', 'fun': lambda p: math.exp(eps[4])*p[18]-math.exp(eps[4]/b)*p[19]},\n",
    "        {'type': 'ineq', 'fun': lambda p: math.exp(eps[2])*p[18]-math.exp(eps[2]/b)*p[22]},\n",
    "        {'type': 'ineq', 'fun': lambda p: math.exp(eps[1])*p[18]-math.exp(eps[1]/b)*p[26]},\n",
    "        {'type': 'ineq', 'fun': lambda p: math.exp(eps[2])*p[19]-math.exp(eps[2]/b)*p[23]},\n",
    "        {'type': 'ineq', 'fun': lambda p: math.exp(eps[1])*p[19]-math.exp(eps[1]/b)*p[27]},\n",
    "        {'type': 'ineq', 'fun': lambda p: math.exp(eps[4])*p[20]-math.exp(eps[4]/b)*p[21]},\n",
    "        {'type': 'ineq', 'fun': lambda p: math.exp(eps[3])*p[20]-math.exp(eps[3]/b)*p[22]},\n",
    "        {'type': 'ineq', 'fun': lambda p: math.exp(eps[1])*p[20]-math.exp(eps[1]/b)*p[28]},\n",
    "        {'type': 'ineq', 'fun': lambda p: math.exp(eps[3])*p[21]-math.exp(eps[3]/b)*p[23]},\n",
    "        {'type': 'ineq', 'fun': lambda p: math.exp(eps[1])*p[21]-math.exp(eps[1]/b)*p[29]},\n",
    "        {'type': 'ineq', 'fun': lambda p: math.exp(eps[4])*p[22]-math.exp(eps[4]/b)*p[23]},\n",
    "        {'type': 'ineq', 'fun': lambda p: math.exp(eps[1])*p[22]-math.exp(eps[1]/b)*p[30]},\n",
    "        {'type': 'ineq', 'fun': lambda p: math.exp(eps[1])*p[23]-math.exp(eps[1]/b)*p[31]},\n",
    "        {'type': 'ineq', 'fun': lambda p: math.exp(eps[4])*p[24]-math.exp(eps[4]/b)*p[25]},\n",
    "        {'type': 'ineq', 'fun': lambda p: math.exp(eps[3])*p[24]-math.exp(eps[3]/b)*p[26]},\n",
    "        {'type': 'ineq', 'fun': lambda p: math.exp(eps[2])*p[24]-math.exp(eps[2]/b)*p[28]},\n",
    "        {'type': 'ineq', 'fun': lambda p: math.exp(eps[3])*p[25]-math.exp(eps[3]/b)*p[27]},\n",
    "        {'type': 'ineq', 'fun': lambda p: math.exp(eps[2])*p[25]-math.exp(eps[2]/b)*p[29]},\n",
    "        {'type': 'ineq', 'fun': lambda p: math.exp(eps[4])*p[26]-math.exp(eps[4]/b)*p[27]},\n",
    "        {'type': 'ineq', 'fun': lambda p: math.exp(eps[2])*p[26]-math.exp(eps[2]/b)*p[30]},\n",
    "        {'type': 'ineq', 'fun': lambda p: math.exp(eps[2])*p[27]-math.exp(eps[2]/b)*p[31]},\n",
    "        {'type': 'ineq', 'fun': lambda p: math.exp(eps[4])*p[28]-math.exp(eps[4]/b)*p[29]},\n",
    "        {'type': 'ineq', 'fun': lambda p: math.exp(eps[3])*p[28]-math.exp(eps[3]/b)*p[30]},\n",
    "        {'type': 'ineq', 'fun': lambda p: math.exp(eps[3])*p[29]-math.exp(eps[3]/b)*p[31]},\n",
    "        {'type': 'ineq', 'fun': lambda p: math.exp(eps[4])*p[30]-math.exp(eps[4]/b)*p[31]},]\n",
    "    return c\n",
    "\n",
    "def PrivacyLevel(eps,k,b):\n",
    "    p0 = np.ones(2**k)*(1/(2**k))\n",
    "    #print(p0)\n",
    "    fun = lambda p: p[0]/p[int(2**k-1)]\n",
    "    \n",
    "    cons = [0]*(k+1+(2**(k-1))*k)\n",
    "    cons[0:k] = EqCons(eps,b)\n",
    "    cons[k] = {'type': 'eq', 'fun': lambda p: np.sum(p)-1}\n",
    "    cons[k+1:k+1+(2**(k-1))*k] = InEqCons(eps,b)\n",
    "    #print(cons)\n",
    "\n",
    "    bnds = [(0,1)]*(2**k)\n",
    "    \n",
    "    res = minimize(fun, p0, bounds=bnds, constraints=cons)\n",
    "    \n",
    "    prod = 1\n",
    "    for i in range(k):\n",
    "        prod *= (math.exp(eps[i])/math.exp(eps[i]/b))\n",
    "    return math.log(res.fun*prod)"
   ]
  },
  {
   "cell_type": "code",
   "execution_count": 13,
   "metadata": {},
   "outputs": [],
   "source": [
    "f = open('MX.txt', 'r')\n",
    "data = f.read()"
   ]
  },
  {
   "cell_type": "code",
   "execution_count": 14,
   "metadata": {},
   "outputs": [
    {
     "name": "stdout",
     "output_type": "stream",
     "text": [
      "0003000017000006406\n",
      "0\n"
     ]
    }
   ],
   "source": [
    "print(data[0:21])"
   ]
  },
  {
   "cell_type": "code",
   "execution_count": 15,
   "metadata": {},
   "outputs": [
    {
     "name": "stdout",
     "output_type": "stream",
     "text": [
      "11938402.0\n"
     ]
    }
   ],
   "source": [
    "print(len(data)/20)"
   ]
  },
  {
   "cell_type": "code",
   "execution_count": 16,
   "metadata": {},
   "outputs": [
    {
     "name": "stdout",
     "output_type": "stream",
     "text": [
      "3000017000006406.0\n"
     ]
    }
   ],
   "source": [
    "v = np.zeros(11938402)\n",
    "for i in range(len(v)):\n",
    "    v[i] = data[int(20*i):int(20*(i+1)-1)]\n",
    "print(v[0])"
   ]
  },
  {
   "cell_type": "code",
   "execution_count": 17,
   "metadata": {},
   "outputs": [],
   "source": [
    "d = np.zeros((5,11938402))\n",
    "\n",
    "for i in range(11938402):\n",
    "    d[0][i] = int(v[i]/1000000000000000)\n",
    "    d[0][i] = d[0][i]/20 - 1\n",
    "    d[1][i] = int(int(v[i]/10000000)%100000000)\n",
    "    d[1][i] = d[1][i]/1000000 - 1\n",
    "    d[2][i] = int(int(v[i]/100000)%100)\n",
    "    if d[2][i] == 99:\n",
    "        d[2][i] = 0\n",
    "    d[2][i] = d[2][i]/7.5 - 1\n",
    "    d[3][i] = int(int(v[i]/100)%1000)\n",
    "    if d[3][i] == 999:\n",
    "        d[3][i] = 0\n",
    "    d[3][i] = d[3][i]/50 - 1\n",
    "    d[4][i] = int(v[i]%100)\n",
    "    if d[4][i] >= 90:\n",
    "        d[4][i] = 0\n",
    "    d[4][i] = d[4][i]/9 - 1"
   ]
  },
  {
   "cell_type": "code",
   "execution_count": 18,
   "metadata": {},
   "outputs": [
    {
     "name": "stdout",
     "output_type": "stream",
     "text": [
      "[-0.85       -0.9983     -1.          0.28       -0.33333333]\n"
     ]
    }
   ],
   "source": [
    "print(d[:,0])"
   ]
  },
  {
   "cell_type": "code",
   "execution_count": 19,
   "metadata": {},
   "outputs": [],
   "source": [
    "def accuracy2(k,e,d):\n",
    "    beps = [10,15,20,25,30,35,40]\n",
    "    diff = np.zeros((7,4))\n",
    "    \n",
    "    for i in range(7):\n",
    "        eps = [e[l]*beps[i]/(sum(e)) for l in range(k)]\n",
    "    \n",
    "        a = 1\n",
    "        while(1):\n",
    "            a += 0.05\n",
    "            peps = [eps[l]*a for l in range(k)]\n",
    "            if PrivacyLevel(peps,k,2) > beps[i]:\n",
    "                peps = [eps[l]*(a-0.05) for l in range(k)]\n",
    "                break\n",
    "        while(1):\n",
    "            a += 0.05\n",
    "            gpeps = [eps[l]*a for l in range(k)]\n",
    "            if PrivacyLevel(gpeps,k,1.6) > beps[i]:\n",
    "                gpeps = [eps[l]*(a-0.05) for l in range(k)]\n",
    "                break\n",
    "        \n",
    "        for m in range(11938402):\n",
    "            for l in range(k):\n",
    "                t = d[l][m]\n",
    "                diff[i][0] += math.fabs(GPM(t,eps[l],2) - t)\n",
    "                diff[i][1] += math.fabs(GPM(t,eps[l],1.6) - t)\n",
    "                diff[i][2] += math.fabs(GPM(t,peps[l],2) - t)\n",
    "                diff[i][3] += math.fabs(GPM(t,gpeps[l],2) - t)\n",
    "        \n",
    "        s = 11938402*6\n",
    "        diff[i][0] /= s\n",
    "        diff[i][1] /= s\n",
    "        diff[i][2] /= s\n",
    "        diff[i][3] /= s\n",
    "    \n",
    "    return diff"
   ]
  },
  {
   "cell_type": "code",
   "execution_count": 20,
   "metadata": {},
   "outputs": [
    {
     "name": "stderr",
     "output_type": "stream",
     "text": [
      "The PostScript backend does not support transparency; partially transparent artists will be rendered opaque.\n",
      "The PostScript backend does not support transparency; partially transparent artists will be rendered opaque.\n"
     ]
    },
    {
     "data": {
      "image/png": "[encoded data removed]",
      "text/plain": [
       "<Figure size 432x288 with 1 Axes>"
      ]
     },
     "metadata": {
      "needs_background": "light"
     },
     "output_type": "display_data"
    }
   ],
   "source": [
    "k = 5;\n",
    "    \n",
    "diff2 = accuracy2(k,eps,d)\n",
    "\n",
    "s = [10,15,20,25,30,35,40]\n",
    "\n",
    "fig = plt.figure()\n",
    "plt.ylim(-0.05, 0.95)\n",
    "plt.plot(s,diff2[:,0],marker=\"o\",color=\"gray\",linestyle = \"dashed\",label=\"Baseline $(b = 2)$\")\n",
    "plt.plot(s,diff2[:,1],marker=\"+\",color=\"m\",linestyle = \"-\",label=\"Baseline $(b = 1.6)$\")\n",
    "plt.plot(s,diff2[:,2],marker=\"x\",color=\"black\",linestyle = \"dashed\",label=\"Ours $(b = 2)$\")\n",
    "plt.plot(s,diff2[:,3],marker=\".\",color=\"red\",linestyle = \"-\",label=\"Ours $(b = 1.6)$\")\n",
    "plt.legend(bbox_to_anchor=(0.49, 1.02), loc='lower center', borderaxespad=0, ncol=2, fontsize=11.5)\n",
    "plt.xlabel(\"Privacy Budget for the Entire Data\",fontsize=14)\n",
    "plt.ylabel(\"Difference\",fontsize=14)\n",
    "fig.savefig(\"Accuracy_MX.png\")\n",
    "fig.savefig(\"figs/Accuracy_MX.eps\", bbox_inches=\"tight\", pad_inches=0.05)"
   ]
  },
  {
   "cell_type": "code",
   "execution_count": 21,
   "metadata": {},
   "outputs": [],
   "source": [
    "f.close()"
   ]
  },
  {
   "cell_type": "code",
   "execution_count": null,
   "metadata": {},
   "outputs": [],
   "source": []
  }
 ],
 "metadata": {
  "kernelspec": {
   "display_name": "Python 3",
   "language": "python",
   "name": "python3"
  },
  "language_info": {
   "codemirror_mode": {
    "name": "ipython",
    "version": 3
   },
   "file_extension": ".py",
   "mimetype": "text/x-python",
   "name": "python",
   "nbconvert_exporter": "python",
   "pygments_lexer": "ipython3",
   "version": "3.9.0"
  }
 },
 "nbformat": 4,
 "nbformat_minor": 4
}

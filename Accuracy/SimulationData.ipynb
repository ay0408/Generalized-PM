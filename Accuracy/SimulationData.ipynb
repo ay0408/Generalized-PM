{
 "cells": [
  {
   "cell_type": "code",
   "execution_count": 1,
   "metadata": {},
   "outputs": [],
   "source": [
    "import numpy as np\n",
    "import math\n",
    "import matplotlib.pyplot as plt\n",
    "from scipy.optimize import minimize\n",
    "import random\n",
    "import warnings; warnings.simplefilter('ignore')"
   ]
  },
  {
   "cell_type": "code",
   "execution_count": 2,
   "metadata": {},
   "outputs": [
    {
     "data": {
      "image/png": "[encoded data removed]",
      "text/plain": [
       "<Figure size 432x288 with 1 Axes>"
      ]
     },
     "metadata": {
      "needs_background": "light"
     },
     "output_type": "display_data"
    }
   ],
   "source": [
    "# (I): pdf(t^2) = 3(t^2)^2\n",
    "x = [((random.random())**(1/3)) for i in range(100000)]\n",
    "\n",
    "fig = plt.figure()\n",
    "plt.hist(x, bins = 100)\n",
    "plt.xlim(-0.02, 1.02)\n",
    "plt.ylim(0,3100)\n",
    "plt.xlabel(\"${t_i}^2$\", fontsize = 18)\n",
    "fig.savefig(\"SimulationData_I.png\")\n",
    "fig.savefig(\"figs/SimulationData_I.eps\")"
   ]
  },
  {
   "cell_type": "code",
   "execution_count": 3,
   "metadata": {},
   "outputs": [
    {
     "data": {
      "image/png": "[encoded data removed]",
      "text/plain": [
       "<Figure size 432x288 with 1 Axes>"
      ]
     },
     "metadata": {
      "needs_background": "light"
     },
     "output_type": "display_data"
    }
   ],
   "source": [
    "# (II): pdf(t^2) = 3(t^2-1)^2\n",
    "x = [1-(random.random())**(1/3) for i in range(100000)]\n",
    "\n",
    "fig = plt.figure()\n",
    "plt.hist(x, bins = 100)\n",
    "plt.xlim(-0.02, 1.02)\n",
    "plt.ylim(0,3100)\n",
    "plt.xlabel(\"${t_i}^2$\", fontsize = 18)\n",
    "fig.savefig(\"SimulationData_II.png\")\n",
    "fig.savefig(\"figs/SimulationData_II.eps\")"
   ]
  },
  {
   "cell_type": "code",
   "execution_count": 4,
   "metadata": {},
   "outputs": [
    {
     "data": {
      "image/png": "[encoded data removed]",
      "text/plain": [
       "<Figure size 432x288 with 1 Axes>"
      ]
     },
     "metadata": {
      "needs_background": "light"
     },
     "output_type": "display_data"
    }
   ],
   "source": [
    "# (III): pdf(t^2) = 1\n",
    "x = [random.random() for i in range(100000)]\n",
    "\n",
    "fig = plt.figure()\n",
    "plt.hist(x, bins = 100)\n",
    "plt.xlim(-0.02, 1.02)\n",
    "plt.ylim(0,3100)\n",
    "plt.xlabel(\"${t_i}^2$\", fontsize = 18)\n",
    "fig.savefig(\"SimulationData_III.png\")\n",
    "fig.savefig(\"figs/SimulationData_III.eps\")"
   ]
  },
  {
   "cell_type": "code",
   "execution_count": null,
   "metadata": {},
   "outputs": [],
   "source": []
  }
 ],
 "metadata": {
  "kernelspec": {
   "display_name": "Python 3",
   "language": "python",
   "name": "python3"
  },
  "language_info": {
   "codemirror_mode": {
    "name": "ipython",
    "version": 3
   },
   "file_extension": ".py",
   "mimetype": "text/x-python",
   "name": "python",
   "nbconvert_exporter": "python",
   "pygments_lexer": "ipython3",
   "version": "3.8.3"
  }
 },
 "nbformat": 4,
 "nbformat_minor": 4
}
